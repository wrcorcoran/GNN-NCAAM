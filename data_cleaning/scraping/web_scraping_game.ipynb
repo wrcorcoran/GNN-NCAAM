{
 "cells": [
  {
   "cell_type": "markdown",
   "metadata": {},
   "source": [
    "# web_scraping_scores\n",
    "This scrapes scores from [trank](https://barttorvik.com/trank.php#)."
   ]
  },
  {
   "cell_type": "code",
   "execution_count": 1,
   "metadata": {},
   "outputs": [
    {
     "name": "stdout",
     "output_type": "stream",
     "text": [
      "Intel MKL WARNING: Support of Intel(R) Streaming SIMD Extensions 4.2 (Intel(R) SSE4.2) enabled only processors has been deprecated. Intel oneAPI Math Kernel Library 2025.0 will require Intel(R) Advanced Vector Extensions (Intel(R) AVX) instructions.\n",
      "Intel MKL WARNING: Support of Intel(R) Streaming SIMD Extensions 4.2 (Intel(R) SSE4.2) enabled only processors has been deprecated. Intel oneAPI Math Kernel Library 2025.0 will require Intel(R) Advanced Vector Extensions (Intel(R) AVX) instructions.\n"
     ]
    }
   ],
   "source": [
    "import pandas as pd\n",
    "from selenium import webdriver\n",
    "from score_scrape import string_to_df\n",
    "from score_scrape import query\n",
    "\n",
    "\n",
    "pd.set_option('display.max_columns', None)\n",
    "pd.set_option('display.max_rows', None)"
   ]
  },
  {
   "cell_type": "code",
   "execution_count": 2,
   "metadata": {},
   "outputs": [],
   "source": [
    "years = [\"2010\", \"2011\", \"2012\", \"2013\", \"2014\", \"2015\", \"2016\", \"2017\", \"2018\", \"2020\", \"2021\", \"2022\"]\n",
    "# years = [\"2012\", \"2013\", \"2014\", \"2016\", \"2017\", \"2018\", \"2020\", \"2021\", \"2022\"]\n",
    "# years = [\"2021\", \"2022\"]\n",
    "\n",
    "current_year = \"2023\"\n",
    "\n",
    "conferences = [\n",
    "    \"A10\", \"ACC\", \"AE\", \"ASun\", \"Amer\", \"B10\", \"B12\", \"BE\", \"BSky\", \"BSth\",\n",
    "    \"BW\", \"CAA\", \"CUSA\", \"Horz\", \"Ivy\", \"MAAC\", \"MAC\", \"MEAC\", \"MVC\", \"MWC\",\n",
    "    \"NEC\", \"OVC\", \"P12\", \"Pat\", \"SB\", \"SC\", \"SEC\", \"SWAC\", \"Slnd\", \"Sum\", \"WAC\", \"WCC\"\n",
    "]\n",
    "\n",
    "driver = webdriver.Chrome()"
   ]
  },
  {
   "cell_type": "code",
   "execution_count": 3,
   "metadata": {},
   "outputs": [
    {
     "name": "stdout",
     "output_type": "stream",
     "text": [
      "2021 :  A10\n",
      "2021 :  ACC\n",
      "2021 :  AE\n",
      "2021 :  ASun\n",
      "2021 :  Amer\n",
      "2021 :  B10\n",
      "2021 :  B12\n",
      "2021 :  BE\n",
      "2021 :  BSky\n",
      "2021 :  BSth\n",
      "2021 :  BW\n",
      "2021 :  CAA\n",
      "2021 :  CUSA\n",
      "2021 :  Horz\n",
      "2021 :  Ivy\n",
      "2021 :  MAAC\n",
      "2021 :  MAC\n",
      "2021 :  MEAC\n",
      "2021 :  MVC\n",
      "2021 :  MWC\n",
      "2021 :  NEC\n",
      "2021 :  OVC\n",
      "2021 :  P12\n",
      "2021 :  Pat\n",
      "2021 :  SB\n",
      "2021 :  SC\n",
      "2021 :  SEC\n",
      "2021 :  SWAC\n",
      "2021 :  Slnd\n",
      "2021 :  Sum\n",
      "2021 :  WAC\n",
      "2021 :  WCC\n",
      "2022 :  A10\n",
      "2022 :  ACC\n",
      "2022 :  AE\n",
      "2022 :  ASun\n",
      "2022 :  Amer\n",
      "2022 :  B10\n",
      "2022 :  B12\n",
      "2022 :  BE\n",
      "2022 :  BSky\n",
      "2022 :  BSth\n",
      "2022 :  BW\n",
      "2022 :  CAA\n",
      "2022 :  CUSA\n",
      "2022 :  Horz\n",
      "2022 :  Ivy\n",
      "2022 :  MAAC\n",
      "2022 :  MAC\n",
      "2022 :  MEAC\n",
      "2022 :  MVC\n",
      "2022 :  MWC\n",
      "2022 :  NEC\n",
      "2022 :  OVC\n",
      "2022 :  P12\n",
      "2022 :  Pat\n",
      "2022 :  SB\n",
      "2022 :  SC\n",
      "2022 :  SEC\n",
      "2022 :  SWAC\n",
      "2022 :  Slnd\n",
      "2022 :  Sum\n",
      "2022 :  WAC\n",
      "2022 :  WCC\n"
     ]
    }
   ],
   "source": [
    "for year in years:\n",
    "    df = pd.DataFrame()\n",
    "\n",
    "    for conf in conferences:\n",
    "        print(year, \": \", conf)\n",
    "        data_str = query(int(year) + 1, conf, driver)\n",
    "        temp_df = string_to_df(data_str, conferences)\n",
    "        df = pd.concat([df, temp_df]).sort_values(by=\"DATE\").reset_index(drop=True)\n",
    "        \n",
    "    df.to_csv(f\"../../data/dataframes/game/games_{year}.csv\", index=False)"
   ]
  },
  {
   "cell_type": "code",
   "execution_count": 4,
   "metadata": {},
   "outputs": [],
   "source": [
    "driver.quit()"
   ]
  },
  {
   "cell_type": "code",
   "execution_count": 5,
   "metadata": {},
   "outputs": [],
   "source": [
    "# THIS IS USED TO REFRESH FOR THE CURRENT YEAR\n",
    "\n",
    "# df = pd.DataFrame()\n",
    "\n",
    "# for conf in conferences:\n",
    "#     data_str = query(current_year, conf, driver)\n",
    "#     temp_df = string_to_df(data_str, conferences)\n",
    "#     df = pd.concat([df, temp_df]).sort_values(by=\"DATE\").reset_index(drop=True)\n",
    "    \n",
    "# df.to_csv(f\"../data/dataframes/game/games_{current_year + 1}.csv\", index=False)"
   ]
  }
 ],
 "metadata": {
  "kernelspec": {
   "display_name": "gnn-ncaam",
   "language": "python",
   "name": "python3"
  },
  "language_info": {
   "codemirror_mode": {
    "name": "ipython",
    "version": 3
   },
   "file_extension": ".py",
   "mimetype": "text/x-python",
   "name": "python",
   "nbconvert_exporter": "python",
   "pygments_lexer": "ipython3",
   "version": "3.12.1"
  }
 },
 "nbformat": 4,
 "nbformat_minor": 2
}
