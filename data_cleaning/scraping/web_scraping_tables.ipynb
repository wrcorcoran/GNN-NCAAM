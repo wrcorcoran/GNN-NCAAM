{
 "cells": [
  {
   "cell_type": "markdown",
   "metadata": {},
   "source": [
    "# web_scraping_tables\n",
    "This scrapes stats from [trank](https://barttorvik.com/trank.php#)."
   ]
  },
  {
   "cell_type": "markdown",
   "metadata": {},
   "source": [
    "## Part One - Team Stats"
   ]
  },
  {
   "cell_type": "code",
   "execution_count": 1,
   "metadata": {},
   "outputs": [
    {
     "name": "stdout",
     "output_type": "stream",
     "text": [
      "Intel MKL WARNING: Support of Intel(R) Streaming SIMD Extensions 4.2 (Intel(R) SSE4.2) enabled only processors has been deprecated. Intel oneAPI Math Kernel Library 2025.0 will require Intel(R) Advanced Vector Extensions (Intel(R) AVX) instructions.\n",
      "Intel MKL WARNING: Support of Intel(R) Streaming SIMD Extensions 4.2 (Intel(R) SSE4.2) enabled only processors has been deprecated. Intel oneAPI Math Kernel Library 2025.0 will require Intel(R) Advanced Vector Extensions (Intel(R) AVX) instructions.\n"
     ]
    }
   ],
   "source": [
    "import pandas as pd\n",
    "import datetime\n",
    "from table_scrape import table_scrape\n",
    "import csv"
   ]
  },
  {
   "cell_type": "code",
   "execution_count": 2,
   "metadata": {},
   "outputs": [],
   "source": [
    "start_2010 = \"20101107\"\n",
    "temp_date_2010 = datetime.date(2010, 11, 7)\n",
    "end_date_2010 = datetime.date(2011, 4, 5)\n",
    "\n",
    "start_2011 = \"20111106\"\n",
    "temp_date_2011 = datetime.date(2011, 11, 6)\n",
    "end_date_2011 = datetime.date(2012, 4, 3)\n",
    "\n",
    "start_2012 = \"20121108\"\n",
    "temp_date_2012 = datetime.date(2012, 11, 8)\n",
    "end_date_2012 = datetime.date(2013, 4, 9)\n",
    "\n",
    "start_2013 = \"20131107\"\n",
    "temp_date_2013 = datetime.date(2013, 11, 7)\n",
    "end_date_2013 = datetime.date(2014, 4, 8)\n",
    "\n",
    "start_2014 = \"20141113\"\n",
    "temp_date_2014 = datetime.date(2014, 11, 13)\n",
    "end_date_2014 = datetime.date(2015, 4, 7)\n",
    "\n",
    "start_2015 = \"20151112\"\n",
    "temp_date_2015 = datetime.date(2015, 11, 12)\n",
    "end_date_2015 = datetime.date(2016, 4, 5)\n",
    "\n",
    "start_2016 = \"20161110\"\n",
    "temp_date_2016 = datetime.date(2016, 11, 10)\n",
    "end_date_2016 = datetime.date(2017, 4, 4)\n",
    "\n",
    "start_2017 = \"20171109\"\n",
    "temp_date_2017 = datetime.date(2017, 11, 9)\n",
    "end_date_2017 = datetime.date(2018, 4, 3)\n",
    "\n",
    "start_2018 = \"20181105\"\n",
    "temp_date_2018 = datetime.date(2018, 11, 5)\n",
    "end_date_2018 = datetime.date(2019, 4, 9)\n",
    "\n",
    "start_2020 = \"20201124\"\n",
    "temp_date_2020 = datetime.date(2020, 11, 24)\n",
    "end_date_2020 = datetime.date(2021, 4, 6)\n",
    "\n",
    "start_2021 = \"20211108\"\n",
    "temp_date_2021 = datetime.date(2021, 11, 8)\n",
    "end_date_2021 = datetime.date(2022, 4, 5)\n",
    "\n",
    "start_2022 = \"20221106\"\n",
    "temp_date_2022 = datetime.date(2022, 11, 6)\n",
    "end_date_2022 = datetime.date(2023, 4, 4)\n",
    "\n",
    "start_2023 = \"20231105\"\n",
    "temp_date_2023 = datetime.date(2023, 11, 5)\n",
    "end_date_2023 = datetime.date(2024, 4, 9)"
   ]
  },
  {
   "cell_type": "code",
   "execution_count": 3,
   "metadata": {},
   "outputs": [],
   "source": [
    "# get ids\n",
    "data_dict = {}\n",
    "with open(\"../../../../../../../../../../../../../../../../../data/indices/wsc.csv\", mode='r') as file:\n",
    "    # Create a CSV reader\n",
    "    csv_reader = csv.reader(file)\n",
    "            \n",
    "    # Skip the header row if it exists\n",
    "    header = next(csv_reader, None)\n",
    "            \n",
    "    # Iterate through the rows and populate the dictionary\n",
    "    for row in csv_reader:\n",
    "        value, key = row\n",
    "        data_dict[key] = value"
   ]
  },
  {
   "cell_type": "markdown",
   "metadata": {},
   "source": [
    "## 2010"
   ]
  },
  {
   "cell_type": "code",
   "execution_count": 16,
   "metadata": {},
   "outputs": [],
   "source": [
    "# delta time\n",
    "delta = datetime.timedelta(days=1)\n",
    "\n",
    "df_2010 = pd.DataFrame()\n",
    "\n",
    "while (temp_date_2010 <= end_date_2010):\n",
    "    df = table_scrape(start_2010, temp_date_2010.strftime('%Y%m%d'), data_dict)  \n",
    "\n",
    "    if (start_2010 != temp_date_2010.strftime('%Y%m%d')):\n",
    "        df.drop(columns=[\"ID\", \"Team\"], inplace=True)\n",
    "\n",
    "    df = df.add_suffix(\"_\" + temp_date_2010.strftime('%Y%m%d'))\n",
    "\n",
    "    if (start_2010 == temp_date_2010.strftime('%Y%m%d')):\n",
    "        df.rename(columns={\"ID\" + \"_\" + temp_date_2010.strftime('%Y%m%d'): 'ID'}, inplace=True)\n",
    "        df.rename(columns={\"Team\" + \"_\" + temp_date_2010.strftime('%Y%m%d'): 'Team'}, inplace=True)\n",
    "\n",
    "    df_2010 = pd.concat([df_2010, df], axis=1)\n",
    "\n",
    "    temp_date_2010 += delta\n",
    "\n",
    "df_2010['ID'] = df_2010['ID'].astype(int)\n",
    "df_2010 = df_2010.sort_values('ID').reset_index(drop=True)\n",
    "\n",
    "df_2010.to_csv('../data/dataframes/team/team_table_2010.csv', index=False)"
   ]
  },
  {
   "cell_type": "markdown",
   "metadata": {},
   "source": [
    "## 2011"
   ]
  },
  {
   "cell_type": "code",
   "execution_count": 17,
   "metadata": {},
   "outputs": [],
   "source": [
    "# delta time\n",
    "delta = datetime.timedelta(days=1)\n",
    "\n",
    "df_2011 = pd.DataFrame()\n",
    "\n",
    "while (temp_date_2011 <= end_date_2011):\n",
    "    df = table_scrape(start_2011, temp_date_2011.strftime('%Y%m%d'), data_dict)  \n",
    "\n",
    "    if (start_2011 != temp_date_2011.strftime('%Y%m%d')):\n",
    "        df.drop(columns=[\"ID\", \"Team\"], inplace=True)\n",
    "\n",
    "    df = df.add_suffix(\"_\" + temp_date_2011.strftime('%Y%m%d'))\n",
    "\n",
    "    if (start_2011 == temp_date_2011.strftime('%Y%m%d')):\n",
    "        df.rename(columns={\"ID\" + \"_\" + temp_date_2011.strftime('%Y%m%d'): 'ID'}, inplace=True)\n",
    "        df.rename(columns={\"Team\" + \"_\" + temp_date_2011.strftime('%Y%m%d'): 'Team'}, inplace=True)\n",
    "\n",
    "    df_2011 = pd.concat([df_2011, df], axis=1)\n",
    "\n",
    "    temp_date_2011 += delta\n",
    "\n",
    "df_2011['ID'] = df_2011['ID'].astype(int)\n",
    "df_2011 = df_2011.sort_values('ID').reset_index(drop=True)\n",
    "\n",
    "df_2011.to_csv('../../data/dataframes/team/team_table_2011.csv', index=False)"
   ]
  },
  {
   "cell_type": "markdown",
   "metadata": {},
   "source": [
    "## 2012"
   ]
  },
  {
   "cell_type": "code",
   "execution_count": 18,
   "metadata": {},
   "outputs": [],
   "source": [
    "# delta time\n",
    "delta = datetime.timedelta(days=1)\n",
    "\n",
    "df_2012 = pd.DataFrame()\n",
    "\n",
    "while (temp_date_2012 <= end_date_2012):\n",
    "    df = table_scrape(start_2012, temp_date_2012.strftime('%Y%m%d'), data_dict)  \n",
    "\n",
    "    if (start_2012 != temp_date_2012.strftime('%Y%m%d')):\n",
    "        df.drop(columns=[\"ID\", \"Team\"], inplace=True)\n",
    "\n",
    "    df = df.add_suffix(\"_\" + temp_date_2012.strftime('%Y%m%d'))\n",
    "\n",
    "    if (start_2012 == temp_date_2012.strftime('%Y%m%d')):\n",
    "        df.rename(columns={\"ID\" + \"_\" + temp_date_2012.strftime('%Y%m%d'): 'ID'}, inplace=True)\n",
    "        df.rename(columns={\"Team\" + \"_\" + temp_date_2012.strftime('%Y%m%d'): 'Team'}, inplace=True)\n",
    "\n",
    "    df_2012 = pd.concat([df_2012, df], axis=1)\n",
    "\n",
    "    temp_date_2012 += delta\n",
    "\n",
    "df_2012['ID'] = df_2012['ID'].astype(int)\n",
    "df_2012 = df_2012.sort_values('ID').reset_index(drop=True)\n",
    "\n",
    "df_2012.to_csv('../../data/dataframes/team/team_table_2012.csv', index=False)"
   ]
  },
  {
   "cell_type": "markdown",
   "metadata": {},
   "source": [
    "## 2013"
   ]
  },
  {
   "cell_type": "code",
   "execution_count": 29,
   "metadata": {},
   "outputs": [
    {
     "ename": "KeyError",
     "evalue": "'ID'",
     "output_type": "error",
     "traceback": [
      "\u001b[0;31m---------------------------------------------------------------------------\u001b[0m",
      "\u001b[0;31mKeyError\u001b[0m                                  Traceback (most recent call last)",
      "File \u001b[0;32m~/opt/anaconda3/envs/gnn-ncaam/lib/python3.12/site-packages/pandas/core/indexes/base.py:3791\u001b[0m, in \u001b[0;36mIndex.get_loc\u001b[0;34m(self, key)\u001b[0m\n\u001b[1;32m   3790\u001b[0m \u001b[38;5;28;01mtry\u001b[39;00m:\n\u001b[0;32m-> 3791\u001b[0m     \u001b[38;5;28;01mreturn\u001b[39;00m \u001b[38;5;28;43mself\u001b[39;49m\u001b[38;5;241;43m.\u001b[39;49m\u001b[43m_engine\u001b[49m\u001b[38;5;241;43m.\u001b[39;49m\u001b[43mget_loc\u001b[49m\u001b[43m(\u001b[49m\u001b[43mcasted_key\u001b[49m\u001b[43m)\u001b[49m\n\u001b[1;32m   3792\u001b[0m \u001b[38;5;28;01mexcept\u001b[39;00m \u001b[38;5;167;01mKeyError\u001b[39;00m \u001b[38;5;28;01mas\u001b[39;00m err:\n",
      "File \u001b[0;32mindex.pyx:152\u001b[0m, in \u001b[0;36mpandas._libs.index.IndexEngine.get_loc\u001b[0;34m()\u001b[0m\n",
      "File \u001b[0;32mindex.pyx:181\u001b[0m, in \u001b[0;36mpandas._libs.index.IndexEngine.get_loc\u001b[0;34m()\u001b[0m\n",
      "File \u001b[0;32mpandas/_libs/hashtable_class_helper.pxi:7080\u001b[0m, in \u001b[0;36mpandas._libs.hashtable.PyObjectHashTable.get_item\u001b[0;34m()\u001b[0m\n",
      "File \u001b[0;32mpandas/_libs/hashtable_class_helper.pxi:7088\u001b[0m, in \u001b[0;36mpandas._libs.hashtable.PyObjectHashTable.get_item\u001b[0;34m()\u001b[0m\n",
      "\u001b[0;31mKeyError\u001b[0m: 'ID'",
      "\nThe above exception was the direct cause of the following exception:\n",
      "\u001b[0;31mKeyError\u001b[0m                                  Traceback (most recent call last)",
      "Cell \u001b[0;32mIn[29], line 22\u001b[0m\n\u001b[1;32m     18\u001b[0m     df_2013 \u001b[38;5;241m=\u001b[39m pd\u001b[38;5;241m.\u001b[39mconcat([df_2013, df], axis\u001b[38;5;241m=\u001b[39m\u001b[38;5;241m1\u001b[39m)\n\u001b[1;32m     20\u001b[0m     temp_date_2013 \u001b[38;5;241m+\u001b[39m\u001b[38;5;241m=\u001b[39m delta\n\u001b[0;32m---> 22\u001b[0m df_2013[\u001b[38;5;124m'\u001b[39m\u001b[38;5;124mID\u001b[39m\u001b[38;5;124m'\u001b[39m] \u001b[38;5;241m=\u001b[39m \u001b[43mdf_2013\u001b[49m\u001b[43m[\u001b[49m\u001b[38;5;124;43m'\u001b[39;49m\u001b[38;5;124;43mID\u001b[39;49m\u001b[38;5;124;43m'\u001b[39;49m\u001b[43m]\u001b[49m\u001b[38;5;241m.\u001b[39mastype(\u001b[38;5;28mint\u001b[39m)\n\u001b[1;32m     23\u001b[0m df_2013 \u001b[38;5;241m=\u001b[39m df_2013\u001b[38;5;241m.\u001b[39msort_values(\u001b[38;5;124m'\u001b[39m\u001b[38;5;124mID\u001b[39m\u001b[38;5;124m'\u001b[39m)\u001b[38;5;241m.\u001b[39mreset_index(drop\u001b[38;5;241m=\u001b[39m\u001b[38;5;28;01mTrue\u001b[39;00m)\n\u001b[1;32m     25\u001b[0m df_2013\u001b[38;5;241m.\u001b[39mto_csv(\u001b[38;5;124m'\u001b[39m\u001b[38;5;124m../data/dataframes/team/team_table_2013.csv\u001b[39m\u001b[38;5;124m'\u001b[39m, index\u001b[38;5;241m=\u001b[39m\u001b[38;5;28;01mFalse\u001b[39;00m)\n",
      "File \u001b[0;32m~/opt/anaconda3/envs/gnn-ncaam/lib/python3.12/site-packages/pandas/core/frame.py:3893\u001b[0m, in \u001b[0;36mDataFrame.__getitem__\u001b[0;34m(self, key)\u001b[0m\n\u001b[1;32m   3891\u001b[0m \u001b[38;5;28;01mif\u001b[39;00m \u001b[38;5;28mself\u001b[39m\u001b[38;5;241m.\u001b[39mcolumns\u001b[38;5;241m.\u001b[39mnlevels \u001b[38;5;241m>\u001b[39m \u001b[38;5;241m1\u001b[39m:\n\u001b[1;32m   3892\u001b[0m     \u001b[38;5;28;01mreturn\u001b[39;00m \u001b[38;5;28mself\u001b[39m\u001b[38;5;241m.\u001b[39m_getitem_multilevel(key)\n\u001b[0;32m-> 3893\u001b[0m indexer \u001b[38;5;241m=\u001b[39m \u001b[38;5;28;43mself\u001b[39;49m\u001b[38;5;241;43m.\u001b[39;49m\u001b[43mcolumns\u001b[49m\u001b[38;5;241;43m.\u001b[39;49m\u001b[43mget_loc\u001b[49m\u001b[43m(\u001b[49m\u001b[43mkey\u001b[49m\u001b[43m)\u001b[49m\n\u001b[1;32m   3894\u001b[0m \u001b[38;5;28;01mif\u001b[39;00m is_integer(indexer):\n\u001b[1;32m   3895\u001b[0m     indexer \u001b[38;5;241m=\u001b[39m [indexer]\n",
      "File \u001b[0;32m~/opt/anaconda3/envs/gnn-ncaam/lib/python3.12/site-packages/pandas/core/indexes/base.py:3798\u001b[0m, in \u001b[0;36mIndex.get_loc\u001b[0;34m(self, key)\u001b[0m\n\u001b[1;32m   3793\u001b[0m     \u001b[38;5;28;01mif\u001b[39;00m \u001b[38;5;28misinstance\u001b[39m(casted_key, \u001b[38;5;28mslice\u001b[39m) \u001b[38;5;129;01mor\u001b[39;00m (\n\u001b[1;32m   3794\u001b[0m         \u001b[38;5;28misinstance\u001b[39m(casted_key, abc\u001b[38;5;241m.\u001b[39mIterable)\n\u001b[1;32m   3795\u001b[0m         \u001b[38;5;129;01mand\u001b[39;00m \u001b[38;5;28many\u001b[39m(\u001b[38;5;28misinstance\u001b[39m(x, \u001b[38;5;28mslice\u001b[39m) \u001b[38;5;28;01mfor\u001b[39;00m x \u001b[38;5;129;01min\u001b[39;00m casted_key)\n\u001b[1;32m   3796\u001b[0m     ):\n\u001b[1;32m   3797\u001b[0m         \u001b[38;5;28;01mraise\u001b[39;00m InvalidIndexError(key)\n\u001b[0;32m-> 3798\u001b[0m     \u001b[38;5;28;01mraise\u001b[39;00m \u001b[38;5;167;01mKeyError\u001b[39;00m(key) \u001b[38;5;28;01mfrom\u001b[39;00m \u001b[38;5;21;01merr\u001b[39;00m\n\u001b[1;32m   3799\u001b[0m \u001b[38;5;28;01mexcept\u001b[39;00m \u001b[38;5;167;01mTypeError\u001b[39;00m:\n\u001b[1;32m   3800\u001b[0m     \u001b[38;5;66;03m# If we have a listlike key, _check_indexing_error will raise\u001b[39;00m\n\u001b[1;32m   3801\u001b[0m     \u001b[38;5;66;03m#  InvalidIndexError. Otherwise we fall through and re-raise\u001b[39;00m\n\u001b[1;32m   3802\u001b[0m     \u001b[38;5;66;03m#  the TypeError.\u001b[39;00m\n\u001b[1;32m   3803\u001b[0m     \u001b[38;5;28mself\u001b[39m\u001b[38;5;241m.\u001b[39m_check_indexing_error(key)\n",
      "\u001b[0;31mKeyError\u001b[0m: 'ID'"
     ]
    }
   ],
   "source": [
    "# delta time\n",
    "# delta = datetime.timedelta(days=1)\n",
    "\n",
    "# df_2013 = pd.DataFrame()\n",
    "\n",
    "# while (temp_date_2013 <= end_date_2013):\n",
    "#     df = table_scrape(start_2013, temp_date_2013.strftime('%Y%m%d'), data_dict)  \n",
    "\n",
    "#     if (start_2013 != temp_date_2013.strftime('%Y%m%d')):\n",
    "#         df.drop(columns=[\"ID\", \"Team\"], inplace=True)\n",
    "\n",
    "#     df = df.add_suffix(\"_\" + temp_date_2013.strftime('%Y%m%d'))\n",
    "\n",
    "#     if (start_2013 == temp_date_2013.strftime('%Y%m%d')):\n",
    "#         df.rename(columns={\"ID\" + \"_\" + temp_date_2013.strftime('%Y%m%d'): 'ID'}, inplace=True)\n",
    "#         df.rename(columns={\"Team\" + \"_\" + temp_date_2013.strftime('%Y%m%d'): 'Team'}, inplace=True)\n",
    "\n",
    "#     df_2013 = pd.concat([df_2013, df], axis=1)\n",
    "\n",
    "#     temp_date_2013 += delta\n",
    "\n",
    "# df_2013['ID'] = df_2013['ID'].astype(int)\n",
    "# df_2013 = df_2013.sort_values('ID').reset_index(drop=True)\n",
    "\n",
    "# df_2013.to_csv('../../data/dataframes/team/team_table_2013.csv', index=False)"
   ]
  },
  {
   "cell_type": "markdown",
   "metadata": {},
   "source": [
    "## 2014"
   ]
  },
  {
   "cell_type": "code",
   "execution_count": 20,
   "metadata": {},
   "outputs": [],
   "source": [
    "# delta time\n",
    "delta = datetime.timedelta(days=1)\n",
    "\n",
    "df_2014 = pd.DataFrame()\n",
    "\n",
    "while (temp_date_2014 <= end_date_2014):\n",
    "    df = table_scrape(start_2014, temp_date_2014.strftime('%Y%m%d'), data_dict)  \n",
    "\n",
    "    if (start_2014 != temp_date_2014.strftime('%Y%m%d')):\n",
    "        df.drop(columns=[\"ID\", \"Team\"], inplace=True)\n",
    "\n",
    "    df = df.add_suffix(\"_\" + temp_date_2014.strftime('%Y%m%d'))\n",
    "\n",
    "    if (start_2014 == temp_date_2014.strftime('%Y%m%d')):\n",
    "        df.rename(columns={\"ID\" + \"_\" + temp_date_2014.strftime('%Y%m%d'): 'ID'}, inplace=True)\n",
    "        df.rename(columns={\"Team\" + \"_\" + temp_date_2014.strftime('%Y%m%d'): 'Team'}, inplace=True)\n",
    "\n",
    "    df_2014 = pd.concat([df_2014, df], axis=1)\n",
    "\n",
    "    temp_date_2014 += delta\n",
    "\n",
    "df_2014['ID'] = df_2014['ID'].astype(int)\n",
    "df_2014 = df_2014.sort_values('ID').reset_index(drop=True)\n",
    "\n",
    "df_2014.to_csv('../../data/dataframes/team/team_table_2014.csv', index=False)"
   ]
  },
  {
   "cell_type": "markdown",
   "metadata": {},
   "source": [
    "## 2015"
   ]
  },
  {
   "cell_type": "code",
   "execution_count": 21,
   "metadata": {},
   "outputs": [],
   "source": [
    "# delta time\n",
    "delta = datetime.timedelta(days=1)\n",
    "\n",
    "df_2015 = pd.DataFrame()\n",
    "\n",
    "while (temp_date_2015 <= end_date_2015):\n",
    "    df = table_scrape(start_2015, temp_date_2015.strftime('%Y%m%d'), data_dict)  \n",
    "\n",
    "    if (start_2015 != temp_date_2015.strftime('%Y%m%d')):\n",
    "        df.drop(columns=[\"ID\", \"Team\"], inplace=True)\n",
    "\n",
    "    df = df.add_suffix(\"_\" + temp_date_2015.strftime('%Y%m%d'))\n",
    "\n",
    "    if (start_2015 == temp_date_2015.strftime('%Y%m%d')):\n",
    "        df.rename(columns={\"ID\" + \"_\" + temp_date_2015.strftime('%Y%m%d'): 'ID'}, inplace=True)\n",
    "        df.rename(columns={\"Team\" + \"_\" + temp_date_2015.strftime('%Y%m%d'): 'Team'}, inplace=True)\n",
    "\n",
    "    df_2015 = pd.concat([df_2015, df], axis=1)\n",
    "\n",
    "    temp_date_2015 += delta\n",
    "\n",
    "df_2015['ID'] = df_2015['ID'].astype(int)\n",
    "df_2015 = df_2015.sort_values('ID').reset_index(drop=True)\n",
    "\n",
    "df_2015.to_csv('../../data/dataframes/team/team_table_2015.csv', index=False)"
   ]
  },
  {
   "cell_type": "markdown",
   "metadata": {},
   "source": [
    "## 2016"
   ]
  },
  {
   "cell_type": "code",
   "execution_count": 22,
   "metadata": {},
   "outputs": [],
   "source": [
    "# delta time\n",
    "delta = datetime.timedelta(days=1)\n",
    "\n",
    "df_2016 = pd.DataFrame()\n",
    "\n",
    "while (temp_date_2016 <= end_date_2016):\n",
    "    df = table_scrape(start_2016, temp_date_2016.strftime('%Y%m%d'), data_dict)  \n",
    "\n",
    "    if (start_2016 != temp_date_2016.strftime('%Y%m%d')):\n",
    "        df.drop(columns=[\"ID\", \"Team\"], inplace=True)\n",
    "\n",
    "    df = df.add_suffix(\"_\" + temp_date_2016.strftime('%Y%m%d'))\n",
    "\n",
    "    if (start_2016 == temp_date_2016.strftime('%Y%m%d')):\n",
    "        df.rename(columns={\"ID\" + \"_\" + temp_date_2016.strftime('%Y%m%d'): 'ID'}, inplace=True)\n",
    "        df.rename(columns={\"Team\" + \"_\" + temp_date_2016.strftime('%Y%m%d'): 'Team'}, inplace=True)\n",
    "\n",
    "    df_2016 = pd.concat([df_2016, df], axis=1)\n",
    "\n",
    "    temp_date_2016 += delta\n",
    "\n",
    "df_2016['ID'] = df_2016['ID'].astype(int)\n",
    "df_2016 = df_2016.sort_values('ID').reset_index(drop=True)\n",
    "\n",
    "df_2016.to_csv('../../data/dataframes/team/team_table_2016.csv', index=False)"
   ]
  },
  {
   "cell_type": "markdown",
   "metadata": {},
   "source": [
    "## 2017"
   ]
  },
  {
   "cell_type": "code",
   "execution_count": 23,
   "metadata": {},
   "outputs": [],
   "source": [
    "# delta time\n",
    "delta = datetime.timedelta(days=1)\n",
    "\n",
    "df_2017 = pd.DataFrame()\n",
    "\n",
    "while (temp_date_2017 <= end_date_2017):\n",
    "    df = table_scrape(start_2017, temp_date_2017.strftime('%Y%m%d'), data_dict)  \n",
    "\n",
    "    if (start_2017 != temp_date_2017.strftime('%Y%m%d')):\n",
    "        df.drop(columns=[\"ID\", \"Team\"], inplace=True)\n",
    "\n",
    "    df = df.add_suffix(\"_\" + temp_date_2017.strftime('%Y%m%d'))\n",
    "\n",
    "    if (start_2017 == temp_date_2017.strftime('%Y%m%d')):\n",
    "        df.rename(columns={\"ID\" + \"_\" + temp_date_2017.strftime('%Y%m%d'): 'ID'}, inplace=True)\n",
    "        df.rename(columns={\"Team\" + \"_\" + temp_date_2017.strftime('%Y%m%d'): 'Team'}, inplace=True)\n",
    "\n",
    "    df_2017 = pd.concat([df_2017, df], axis=1)\n",
    "\n",
    "    temp_date_2017 += delta\n",
    "\n",
    "df_2017['ID'] = df_2017['ID'].astype(int)\n",
    "df_2017 = df_2017.sort_values('ID').reset_index(drop=True)\n",
    "\n",
    "df_2017.to_csv('../../data/dataframes/team/team_table_2017.csv', index=False)"
   ]
  },
  {
   "cell_type": "markdown",
   "metadata": {},
   "source": [
    "## 2018"
   ]
  },
  {
   "cell_type": "code",
   "execution_count": 24,
   "metadata": {},
   "outputs": [],
   "source": [
    "# delta time\n",
    "delta = datetime.timedelta(days=1)\n",
    "\n",
    "df_2018 = pd.DataFrame()\n",
    "\n",
    "while (temp_date_2018 <= end_date_2018):\n",
    "    df = table_scrape(start_2018, temp_date_2018.strftime('%Y%m%d'), data_dict)  \n",
    "\n",
    "    if (start_2018 != temp_date_2018.strftime('%Y%m%d')):\n",
    "        df.drop(columns=[\"ID\", \"Team\"], inplace=True)\n",
    "\n",
    "    df = df.add_suffix(\"_\" + temp_date_2018.strftime('%Y%m%d'))\n",
    "\n",
    "    if (start_2018 == temp_date_2018.strftime('%Y%m%d')):\n",
    "        df.rename(columns={\"ID\" + \"_\" + temp_date_2018.strftime('%Y%m%d'): 'ID'}, inplace=True)\n",
    "        df.rename(columns={\"Team\" + \"_\" + temp_date_2018.strftime('%Y%m%d'): 'Team'}, inplace=True)\n",
    "\n",
    "    df_2018 = pd.concat([df_2018, df], axis=1)\n",
    "\n",
    "    temp_date_2018 += delta\n",
    "\n",
    "df_2018['ID'] = df_2018['ID'].astype(int)\n",
    "df_2018 = df_2018.sort_values('ID').reset_index(drop=True)\n",
    "\n",
    "df_2018.to_csv('../../data/dataframes/team/team_table_2018.csv', index=False)"
   ]
  },
  {
   "cell_type": "markdown",
   "metadata": {},
   "source": [
    "## 2019"
   ]
  },
  {
   "cell_type": "code",
   "execution_count": 25,
   "metadata": {},
   "outputs": [],
   "source": [
    "# delta time\n",
    "delta = datetime.timedelta(days=1)\n",
    "\n",
    "df_2020 = pd.DataFrame()\n",
    "\n",
    "while (temp_date_2020 <= end_date_2020):\n",
    "    df = table_scrape(start_2020, temp_date_2020.strftime('%Y%m%d'), data_dict)  \n",
    "\n",
    "    if (start_2020 != temp_date_2020.strftime('%Y%m%d')):\n",
    "        df.drop(columns=[\"ID\", \"Team\"], inplace=True)\n",
    "\n",
    "    df = df.add_suffix(\"_\" + temp_date_2020.strftime('%Y%m%d'))\n",
    "\n",
    "    if (start_2020 == temp_date_2020.strftime('%Y%m%d')):\n",
    "        df.rename(columns={\"ID\" + \"_\" + temp_date_2020.strftime('%Y%m%d'): 'ID'}, inplace=True)\n",
    "        df.rename(columns={\"Team\" + \"_\" + temp_date_2020.strftime('%Y%m%d'): 'Team'}, inplace=True)\n",
    "\n",
    "    df_2020 = pd.concat([df_2020, df], axis=1)\n",
    "\n",
    "    temp_date_2020 += delta\n",
    "\n",
    "df_2020['ID'] = df_2020['ID'].astype(int)\n",
    "df_2020 = df_2020.sort_values('ID').reset_index(drop=True)\n",
    "\n",
    "df_2020.to_csv('../data/dataframes/team/team_table_2020.csv', index=False)"
   ]
  },
  {
   "cell_type": "markdown",
   "metadata": {},
   "source": [
    "## 2021"
   ]
  },
  {
   "cell_type": "code",
   "execution_count": 26,
   "metadata": {},
   "outputs": [],
   "source": [
    "# delta time\n",
    "delta = datetime.timedelta(days=1)\n",
    "\n",
    "df_2021 = pd.DataFrame()\n",
    "\n",
    "while (temp_date_2021 <= end_date_2021):\n",
    "    df = table_scrape(start_2021, temp_date_2021.strftime('%Y%m%d'), data_dict)  \n",
    "\n",
    "    if (start_2021 != temp_date_2021.strftime('%Y%m%d')):\n",
    "        df.drop(columns=[\"ID\", \"Team\"], inplace=True)\n",
    "\n",
    "    df = df.add_suffix(\"_\" + temp_date_2021.strftime('%Y%m%d'))\n",
    "\n",
    "    if (start_2021 == temp_date_2021.strftime('%Y%m%d')):\n",
    "        df.rename(columns={\"ID\" + \"_\" + temp_date_2021.strftime('%Y%m%d'): 'ID'}, inplace=True)\n",
    "        df.rename(columns={\"Team\" + \"_\" + temp_date_2021.strftime('%Y%m%d'): 'Team'}, inplace=True)\n",
    "\n",
    "    df_2021 = pd.concat([df_2021, df], axis=1)\n",
    "\n",
    "    temp_date_2021 += delta\n",
    "\n",
    "df_2021['ID'] = df_2021['ID'].astype(int)\n",
    "df_2021 = df_2021.sort_values('ID').reset_index(drop=True)\n",
    "\n",
    "df_2021.to_csv('../../data/dataframes/team/team_table_2021.csv', index=False)"
   ]
  },
  {
   "cell_type": "markdown",
   "metadata": {},
   "source": [
    "## 2022"
   ]
  },
  {
   "cell_type": "code",
   "execution_count": 27,
   "metadata": {},
   "outputs": [],
   "source": [
    "# delta time\n",
    "delta = datetime.timedelta(days=1)\n",
    "\n",
    "df_2022 = pd.DataFrame()\n",
    "\n",
    "while (temp_date_2022 <= end_date_2022):\n",
    "    df = table_scrape(start_2022, temp_date_2022.strftime('%Y%m%d'), data_dict)  \n",
    "\n",
    "    if (start_2022 != temp_date_2022.strftime('%Y%m%d')):\n",
    "        df.drop(columns=[\"ID\", \"Team\"], inplace=True)\n",
    "\n",
    "    df = df.add_suffix(\"_\" + temp_date_2022.strftime('%Y%m%d'))\n",
    "\n",
    "    if (start_2022 == temp_date_2022.strftime('%Y%m%d')):\n",
    "        df.rename(columns={\"ID\" + \"_\" + temp_date_2022.strftime('%Y%m%d'): 'ID'}, inplace=True)\n",
    "        df.rename(columns={\"Team\" + \"_\" + temp_date_2022.strftime('%Y%m%d'): 'Team'}, inplace=True)\n",
    "\n",
    "    df_2022 = pd.concat([df_2022, df], axis=1)\n",
    "\n",
    "    temp_date_2022 += delta\n",
    "\n",
    "df_2022['ID'] = df_2022['ID'].astype(int)\n",
    "df_2022 = df_2022.sort_values('ID').reset_index(drop=True)\n",
    "\n",
    "df_2022.to_csv('../../data/dataframes/team/team_table_2022.csv', index=False)"
   ]
  },
  {
   "cell_type": "markdown",
   "metadata": {},
   "source": [
    "## 2023"
   ]
  },
  {
   "cell_type": "code",
   "execution_count": 4,
   "metadata": {},
   "outputs": [],
   "source": [
    "# delta time\n",
    "delta = datetime.timedelta(days=1)\n",
    "\n",
    "df_2023 = pd.DataFrame()\n",
    "\n",
    "while (temp_date_2023 <= end_date_2023):\n",
    "    df = table_scrape(start_2023, temp_date_2023.strftime('%Y%m%d'), data_dict)  \n",
    "\n",
    "    if (start_2023 != temp_date_2023.strftime('%Y%m%d')):\n",
    "        df.drop(columns=[\"ID\", \"Team\"], inplace=True)\n",
    "\n",
    "    df = df.add_suffix(\"_\" + temp_date_2023.strftime('%Y%m%d'))\n",
    "\n",
    "    if (start_2023 == temp_date_2023.strftime('%Y%m%d')):\n",
    "        df.rename(columns={\"ID\" + \"_\" + temp_date_2023.strftime('%Y%m%d'): 'ID'}, inplace=True)\n",
    "        df.rename(columns={\"Team\" + \"_\" + temp_date_2023.strftime('%Y%m%d'): 'Team'}, inplace=True)\n",
    "\n",
    "    df_2023 = pd.concat([df_2023, df], axis=1)\n",
    "\n",
    "    temp_date_2023 += delta\n",
    "\n",
    "df_2023['ID'] = df_2023['ID'].astype(int)\n",
    "df_2023 = df_2023.sort_values('ID').reset_index(drop=True)\n",
    "\n",
    "df_2023.to_csv('../../data/dataframes/team/team_table_2023.csv', index=False)"
   ]
  }
 ],
 "metadata": {
  "kernelspec": {
   "display_name": "gnn-ncaam",
   "language": "python",
   "name": "python3"
  },
  "language_info": {
   "codemirror_mode": {
    "name": "ipython",
    "version": 3
   },
   "file_extension": ".py",
   "mimetype": "text/x-python",
   "name": "python",
   "nbconvert_exporter": "python",
   "pygments_lexer": "ipython3",
   "version": "3.12.1"
  }
 },
 "nbformat": 4,
 "nbformat_minor": 2
}
