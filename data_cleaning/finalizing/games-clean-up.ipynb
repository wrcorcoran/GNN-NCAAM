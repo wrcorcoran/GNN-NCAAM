{
 "cells": [
  {
   "cell_type": "code",
   "execution_count": 1,
   "metadata": {},
   "outputs": [
    {
     "name": "stdout",
     "output_type": "stream",
     "text": [
      "Intel MKL WARNING: Support of Intel(R) Streaming SIMD Extensions 4.2 (Intel(R) SSE4.2) enabled only processors has been deprecated. Intel oneAPI Math Kernel Library 2025.0 will require Intel(R) Advanced Vector Extensions (Intel(R) AVX) instructions.\n",
      "Intel MKL WARNING: Support of Intel(R) Streaming SIMD Extensions 4.2 (Intel(R) SSE4.2) enabled only processors has been deprecated. Intel oneAPI Math Kernel Library 2025.0 will require Intel(R) Advanced Vector Extensions (Intel(R) AVX) instructions.\n"
     ]
    }
   ],
   "source": [
    "import pandas as pd\n",
    "\n",
    "pd.set_option('display.max_columns', None)\n",
    "pd.set_option('display.max_rows', None)"
   ]
  },
  {
   "cell_type": "code",
   "execution_count": 2,
   "metadata": {},
   "outputs": [],
   "source": [
    "past_teams = pd.read_csv('../../data/indices/web_scraped_past.csv').columns.to_list()\n",
    "\n",
    "ids = pd.read_csv('../../data/indices/web_scraped_shortened.csv').values.tolist()\n",
    "ids = result_dict = {name: index for index, name in ids}\n",
    "\n",
    "years = [\"2010\", \"2011\", \"2012\", \"2014\", \"2015\", \"2016\", \"2017\", \"2018\", \"2020\", \"2021\", \"2022\", \"2023\"]"
   ]
  },
  {
   "cell_type": "code",
   "execution_count": 3,
   "metadata": {},
   "outputs": [],
   "source": [
    "def swap_ids_and_count_games(year):\n",
    "    games = pd.read_csv(f'../../data/dataframes/game/games_{year}.csv')\n",
    "    games = games.sort_values(by=['TEAM', 'DATE']).reset_index(drop=True)\n",
    "    games.insert(1, \"GAME\", 0)\n",
    "    games.insert(3, \"TEAM_ID\", 0)\n",
    "    games.insert(5, \"OPP_ID\", 0)\n",
    "\n",
    "    ctr = 0\n",
    "    curr = games.loc[0, \"TEAM\"]\n",
    "\n",
    "    for team in past_teams:\n",
    "        mask = (games[\"TEAM\"] == team)\n",
    "        games = games[~mask]\n",
    "        mask = (games[\"OPP.\"] == team)\n",
    "        games = games[~mask]\n",
    "\n",
    "    games = games.reset_index(drop=True)\n",
    "\n",
    "    for i in range(len(games)):\n",
    "        if curr == games.loc[i, \"TEAM\"]:\n",
    "            games.loc[i, \"GAME\"] = ctr\n",
    "            games.loc[i, \"TEAM_ID\"] = ids[curr]\n",
    "            games.loc[i, \"OPP_ID\"] = ids[games.loc[i, \"OPP.\"]]\n",
    "            games.loc[i, \"VENUE\"] = ord(games.loc[i, \"VENUE\"])\n",
    "            ctr += 1\n",
    "        else:\n",
    "            ctr = 1\n",
    "            curr = games.loc[i, \"TEAM\"]\n",
    "            games.loc[i, \"TEAM_ID\"] = ids[curr]\n",
    "            games.loc[i, \"OPP_ID\"] = ids[games.loc[i, \"OPP.\"]]\n",
    "            games.loc[i, \"VENUE\"] = ord(games.loc[i, \"VENUE\"])\n",
    "\n",
    "    games = games.drop(columns=['TEAM', 'OPP.'])\n",
    "    games.to_csv(f\"../../data/finals/game_stats/final_games_{year}_wdates.csv\", index=False)"
   ]
  },
  {
   "cell_type": "code",
   "execution_count": 4,
   "metadata": {},
   "outputs": [],
   "source": [
    "for year in years:\n",
    "    swap_ids_and_count_games(year)"
   ]
  }
 ],
 "metadata": {
  "kernelspec": {
   "display_name": "gnn-ncaam",
   "language": "python",
   "name": "python3"
  },
  "language_info": {
   "codemirror_mode": {
    "name": "ipython",
    "version": 3
   },
   "file_extension": ".py",
   "mimetype": "text/x-python",
   "name": "python",
   "nbconvert_exporter": "python",
   "pygments_lexer": "ipython3",
   "version": "3.12.1"
  }
 },
 "nbformat": 4,
 "nbformat_minor": 2
}
