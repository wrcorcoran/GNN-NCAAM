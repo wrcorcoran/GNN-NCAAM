{
 "cells": [
  {
   "cell_type": "code",
   "execution_count": 10,
   "metadata": {},
   "outputs": [],
   "source": [
    "import pandas as pd"
   ]
  },
  {
   "cell_type": "code",
   "execution_count": 11,
   "metadata": {},
   "outputs": [
    {
     "data": {
      "text/plain": [
       "set()"
      ]
     },
     "execution_count": 11,
     "metadata": {},
     "output_type": "execute_result"
    }
   ],
   "source": [
    "df_opp = pd.read_csv(\"../../data/dataframes/game/games_2023.csv\")\n",
    "names_opp = set(df_opp[\"TEAM\"].tolist())\n",
    "\n",
    "df_all = pd.read_csv(\"../../data/indices/web_scraped_shortened.csv\")\n",
    "names_all = set(df_all[\"Team\"].tolist())\n",
    "\n",
    "names_opp - names_all"
   ]
  },
  {
   "cell_type": "code",
   "execution_count": 12,
   "metadata": {},
   "outputs": [
    {
     "data": {
      "text/plain": [
       "{'Hartford', 'Savannah St.', 'St. Francis NY'}"
      ]
     },
     "execution_count": 12,
     "metadata": {},
     "output_type": "execute_result"
    }
   ],
   "source": [
    "df_opp = pd.read_csv(\"../../data/dataframes/game/games_2014.csv\")\n",
    "names_opp = set(df_opp[\"TEAM\"].tolist())\n",
    "\n",
    "df_all = pd.read_csv(\"../../data/indices/web_scraped_shortened.csv\")\n",
    "names_all = set(df_all[\"Team\"].tolist())\n",
    "\n",
    "names_opp - names_all"
   ]
  },
  {
   "cell_type": "code",
   "execution_count": 13,
   "metadata": {},
   "outputs": [],
   "source": [
    "no_exist = set()\n",
    "\n",
    "years = [\"2010\", \"2011\", \"2012\", \"2013\", \"2014\", \"2015\", \"2016\", \"2017\", \"2018\", \"2020\", \"2021\", \"2022\"]\n",
    "\n",
    "for y in years:\n",
    "    df_temp = pd.read_csv(f\"../../data/dataframes/game/games_{y}.csv\")\n",
    "    names_temp = set(df_temp[\"TEAM\"].tolist())\n",
    "\n",
    "    no_exist = no_exist.union(names_temp - names_all)\n",
    "\n",
    "no_exist_l = list(no_exist)\n",
    "df = pd.DataFrame(columns=no_exist_l)\n",
    "df.to_csv(\"../../data/indices/web_scraped_past.csv\", index=False)"
   ]
  }
 ],
 "metadata": {
  "kernelspec": {
   "display_name": "gnn-ncaam",
   "language": "python",
   "name": "python3"
  },
  "language_info": {
   "codemirror_mode": {
    "name": "ipython",
    "version": 3
   },
   "file_extension": ".py",
   "mimetype": "text/x-python",
   "name": "python",
   "nbconvert_exporter": "python",
   "pygments_lexer": "ipython3",
   "version": "3.12.1"
  }
 },
 "nbformat": 4,
 "nbformat_minor": 2
}
